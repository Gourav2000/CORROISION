{
 "cells": [
  {
   "cell_type": "code",
   "execution_count": 1,
   "id": "7e58d095",
   "metadata": {},
   "outputs": [],
   "source": [
    "import os"
   ]
  },
  {
   "cell_type": "code",
   "execution_count": 2,
   "id": "71712dd5",
   "metadata": {},
   "outputs": [],
   "source": [
    "def rename_images(folder_path):\n",
    "    # Get a list of all files in the folder\n",
    "    files = os.listdir(folder_path)\n",
    "    # Filter out non-image files\n",
    "    image_files = [file for file in files if file.lower().endswith(('.jpg', '.jpeg', '.png', '.gif', '.bmp'))]\n",
    "    # Sort the image files alphabetically\n",
    "    image_files.sort()\n",
    "\n",
    "    # Iterate over the image files and rename them\n",
    "    for index, file_name in enumerate(image_files):\n",
    "        # Create the new file name with the sequence number\n",
    "        new_file_name = f\"{index+1}.jpg\"\n",
    "        # Get the current file path\n",
    "        current_file_path = os.path.join(folder_path, file_name)\n",
    "        # Create the new file path\n",
    "        new_file_path = os.path.join(folder_path, new_file_name)\n",
    "        # Rename the file\n",
    "        os.rename(current_file_path, new_file_path)\n",
    "        print(f\"Renamed {file_name} to {new_file_name}\")"
   ]
  },
  {
   "cell_type": "code",
   "execution_count": 4,
   "id": "f5d47a9d",
   "metadata": {},
   "outputs": [
    {
     "name": "stdout",
     "output_type": "stream",
     "text": [
      "Renamed 1.jpg to 1.jpg\n",
      "Renamed 10.jpg to 2.jpg\n",
      "Renamed 11.jpg to 3.jpg\n",
      "Renamed 12.jpg to 4.jpg\n",
      "Renamed 13.jpg to 5.jpg\n",
      "Renamed 14.jpg to 6.jpg\n",
      "Renamed 15.jpg to 7.jpg\n",
      "Renamed 16.jpg to 8.jpg\n",
      "Renamed 17.jpg to 9.jpg\n",
      "Renamed 18.jpg to 10.jpg\n",
      "Renamed 19.jpg to 11.jpg\n",
      "Renamed 2.jpg to 12.jpg\n",
      "Renamed 20.jpg to 13.jpg\n",
      "Renamed 21.jpg to 14.jpg\n",
      "Renamed 22.jpg to 15.jpg\n",
      "Renamed 23.jpg to 16.jpg\n",
      "Renamed 24.jpg to 17.jpg\n",
      "Renamed 25.jpg to 18.jpg\n",
      "Renamed 26.jpg to 19.jpg\n",
      "Renamed 27.jpg to 20.jpg\n",
      "Renamed 28.jpg to 21.jpg\n",
      "Renamed 29.jpg to 22.jpg\n",
      "Renamed 3.jpg to 23.jpg\n",
      "Renamed 30.jpg to 24.jpg\n",
      "Renamed 31.jpg to 25.jpg\n",
      "Renamed 32.jpg to 26.jpg\n",
      "Renamed 33.jpg to 27.jpg\n",
      "Renamed 34.jpg to 28.jpg\n",
      "Renamed 35.jpg to 29.jpg\n",
      "Renamed 36.jpg to 30.jpg\n",
      "Renamed 37.jpg to 31.jpg\n",
      "Renamed 38.jpg to 32.jpg\n",
      "Renamed 39.jpg to 33.jpg\n",
      "Renamed 4.jpg to 34.jpg\n",
      "Renamed 40.jpg to 35.jpg\n",
      "Renamed 41.jpg to 36.jpg\n",
      "Renamed 42.jpg to 37.jpg\n",
      "Renamed 44.jpg to 38.jpg\n",
      "Renamed 45.jpg to 39.jpg\n",
      "Renamed 46.jpg to 40.jpg\n",
      "Renamed 47.jpg to 41.jpg\n",
      "Renamed 48.jpg to 42.jpg\n",
      "Renamed 49.jpg to 43.jpg\n",
      "Renamed 5.jpg to 44.jpg\n",
      "Renamed 50.jpg to 45.jpg\n",
      "Renamed 51.jpg to 46.jpg\n",
      "Renamed 52.jpg to 47.jpg\n",
      "Renamed 53.jpg to 48.jpg\n",
      "Renamed 54.jpg to 49.jpg\n",
      "Renamed 55.jpg to 50.jpg\n",
      "Renamed 56.jpg to 51.jpg\n",
      "Renamed 57.jpg to 52.jpg\n",
      "Renamed 58.jpg to 53.jpg\n",
      "Renamed 59.jpg to 54.jpg\n",
      "Renamed 6.jpg to 55.jpg\n",
      "Renamed 60.jpg to 56.jpg\n",
      "Renamed 61.jpg to 57.jpg\n",
      "Renamed 62.jpg to 58.jpg\n",
      "Renamed 64.jpg to 59.jpg\n",
      "Renamed 65.jpg to 60.jpg\n",
      "Renamed 66.jpg to 61.jpg\n",
      "Renamed 7.jpg to 62.jpg\n",
      "Renamed 9.jpg to 63.jpg\n"
     ]
    }
   ],
   "source": [
    "# Provide the path to the folder containing the images\n",
    "folder_path = '.'\n",
    "\n",
    "# Call the function to rename the images in the folder\n",
    "rename_images(folder_path)"
   ]
  },
  {
   "cell_type": "code",
   "execution_count": null,
   "id": "926d86f7",
   "metadata": {},
   "outputs": [],
   "source": []
  }
 ],
 "metadata": {
  "kernelspec": {
   "display_name": "Python 3 (ipykernel)",
   "language": "python",
   "name": "python3"
  },
  "language_info": {
   "codemirror_mode": {
    "name": "ipython",
    "version": 3
   },
   "file_extension": ".py",
   "mimetype": "text/x-python",
   "name": "python",
   "nbconvert_exporter": "python",
   "pygments_lexer": "ipython3",
   "version": "3.9.16"
  }
 },
 "nbformat": 4,
 "nbformat_minor": 5
}
