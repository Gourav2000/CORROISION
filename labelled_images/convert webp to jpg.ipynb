{
 "cells": [
  {
   "cell_type": "code",
   "execution_count": 1,
   "id": "2c5aeeac",
   "metadata": {},
   "outputs": [],
   "source": [
    "from PIL import Image\n",
    "import os"
   ]
  },
  {
   "cell_type": "code",
   "execution_count": 2,
   "id": "bcb21b3b",
   "metadata": {},
   "outputs": [],
   "source": [
    "def convert_webp_to_jpg(input_path, output_path):\n",
    "    try:\n",
    "        img = Image.open(input_path)\n",
    "        img = img.convert(\"RGB\")\n",
    "        img.save(output_path, \"JPEG\")\n",
    "        print(f\"Converted {input_path} to {output_path}\")\n",
    "    except Exception as e:\n",
    "        print(f\"Error converting {input_path}: {str(e)}\")"
   ]
  },
  {
   "cell_type": "code",
   "execution_count": 3,
   "id": "8f9a4554",
   "metadata": {},
   "outputs": [],
   "source": [
    "# Provide the path to the directory containing .webp images\n",
    "webp_directory = '.'\n",
    "\n",
    "# Provide the path to the directory where you want to save the converted .jpg images\n",
    "jpg_directory = os.path.join('.','jpeg')"
   ]
  },
  {
   "cell_type": "code",
   "execution_count": 5,
   "id": "f16921ea",
   "metadata": {},
   "outputs": [
    {
     "name": "stdout",
     "output_type": "stream",
     "text": [
      "Converted ./rust-damage-paint-corrosion-flange-260nw-1995670553.webp to ./jpeg/rust-damage-paint-corrosion-flange-260nw-1995670553.jpg\n",
      "Converted ./electrical-conduit-rustysheet-metal-rustleaking-260nw-1476824261.webp to ./jpeg/electrical-conduit-rustysheet-metal-rustleaking-260nw-1476824261.jpg\n",
      "Converted ./closeup-corroded-steel-pipe-flange-260nw-2213313447.webp to ./jpeg/closeup-corroded-steel-pipe-flange-260nw-2213313447.jpg\n",
      "Converted ./rust-and-erosion-iron-metal-surface-had-damage-by-weather-and-temperature-stock-image_csp57209767.webp to ./jpeg/rust-and-erosion-iron-metal-surface-had-damage-by-weather-and-temperature-stock-image_csp57209767.jpg\n",
      "Converted ./ThinkstockPhotos-848263956-960w.webp to ./jpeg/ThinkstockPhotos-848263956-960w.jpg\n",
      "Converted ./rust-damage-paint-corrosion-flange-260nw-1577846539.webp to ./jpeg/rust-damage-paint-corrosion-flange-260nw-1577846539.jpg\n",
      "Converted ./vintage-rusted-screw-corrosive-grunge-260nw-1520779391 (1).webp to ./jpeg/vintage-rusted-screw-corrosive-grunge-260nw-1520779391 (1).jpg\n",
      "Converted ./rust-damage-paint-corrosion-flange-260nw-1995676364.webp to ./jpeg/rust-damage-paint-corrosion-flange-260nw-1995676364.jpg\n",
      "Converted ./Oct-23-auto-body-repair-technician (1).webp to ./jpeg/Oct-23-auto-body-repair-technician (1).jpg\n",
      "Converted ./metal-corrosion-rust-texture-background-53783787.webp to ./jpeg/metal-corrosion-rust-texture-background-53783787.jpg\n",
      "Converted ./leaking-rust-pipe-260nw-673216990.webp to ./jpeg/leaking-rust-pipe-260nw-673216990.jpg\n",
      "Converted ./vintage-rusted-screw-corrosive-grunge-260nw-1915117444.webp to ./jpeg/vintage-rusted-screw-corrosive-grunge-260nw-1915117444.jpg\n",
      "Converted ./rust-damage-paint-corrosion-flange-260nw-1892016496.webp to ./jpeg/rust-damage-paint-corrosion-flange-260nw-1892016496.jpg\n",
      "Converted ./rust-damage-paint-corrosion-flange-260nw-1997470253.webp to ./jpeg/rust-damage-paint-corrosion-flange-260nw-1997470253.jpg\n",
      "Converted ./close-pitting-corrosion-metal-surface-260nw-1883015812.webp to ./jpeg/close-pitting-corrosion-metal-surface-260nw-1883015812.jpg\n",
      "Converted ./fragment-rusty-metal-sheet-after-260nw-2166122897.webp to ./jpeg/fragment-rusty-metal-sheet-after-260nw-2166122897.jpg\n",
      "Converted ./vintage-rusted-screw-corrosive-grunge-260nw-1576557298.webp to ./jpeg/vintage-rusted-screw-corrosive-grunge-260nw-1576557298.jpg\n",
      "Converted ./closeup-corroded-steel-pipe-corrosion-260nw-2218241821.webp to ./jpeg/closeup-corroded-steel-pipe-corrosion-260nw-2218241821.jpg\n",
      "Converted ./ImageForArticle_97_1581522185719745.webp to ./jpeg/ImageForArticle_97_1581522185719745.jpg\n",
      "Converted ./vintage-rusted-screw-corrosive-grunge-260nw-1520779391.webp to ./jpeg/vintage-rusted-screw-corrosive-grunge-260nw-1520779391.jpg\n",
      "Converted ./corroded-blue-metal-background-rusty-blue-painted-metal-wall-rusty-metal-background-rust-spots-corroded-blue-metal-background-160729003.webp to ./jpeg/corroded-blue-metal-background-rusty-blue-painted-metal-wall-rusty-metal-background-rust-spots-corroded-blue-metal-background-160729003.jpg\n",
      "Converted ./Oct-23-auto-body-repair-technician.webp to ./jpeg/Oct-23-auto-body-repair-technician.jpg\n"
     ]
    }
   ],
   "source": [
    "# Iterate over the files in the webp_directory\n",
    "for filename in os.listdir(webp_directory):\n",
    "    if filename.endswith(\".webp\"):\n",
    "        webp_path = os.path.join(webp_directory, filename)\n",
    "        jpg_filename = os.path.splitext(filename)[0] + \".jpg\"\n",
    "        jpg_path = os.path.join(jpg_directory, jpg_filename)\n",
    "        convert_webp_to_jpg(webp_path, jpg_path)"
   ]
  },
  {
   "cell_type": "code",
   "execution_count": null,
   "id": "5d665ffe",
   "metadata": {},
   "outputs": [],
   "source": []
  }
 ],
 "metadata": {
  "kernelspec": {
   "display_name": "Python 3 (ipykernel)",
   "language": "python",
   "name": "python3"
  },
  "language_info": {
   "codemirror_mode": {
    "name": "ipython",
    "version": 3
   },
   "file_extension": ".py",
   "mimetype": "text/x-python",
   "name": "python",
   "nbconvert_exporter": "python",
   "pygments_lexer": "ipython3",
   "version": "3.9.16"
  }
 },
 "nbformat": 4,
 "nbformat_minor": 5
}
